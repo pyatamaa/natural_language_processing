{
  "nbformat": 4,
  "nbformat_minor": 0,
  "metadata": {
    "colab": {
      "provenance": []
    },
    "kernelspec": {
      "name": "python3",
      "display_name": "Python 3"
    },
    "language_info": {
      "name": "python"
    }
  },
  "cells": [
    {
      "cell_type": "markdown",
      "source": [
        "Pada kode ini akan melakukan scrapping data komentar dari aplikasi yang berada di **Google Play Store**, langkah pertama lakukan instalasi library untuk scrapping yaitu **google play scraper**"
      ],
      "metadata": {
        "id": "pd0Rdmrn7S6h"
      }
    },
    {
      "cell_type": "code",
      "execution_count": null,
      "metadata": {
        "colab": {
          "base_uri": "https://localhost:8080/"
        },
        "id": "fpqONhgi7LQL",
        "outputId": "b425d123-f826-498f-ebca-659d599aeee7"
      },
      "outputs": [
        {
          "output_type": "stream",
          "name": "stdout",
          "text": [
            "Collecting google-play-scraper\n",
            "  Downloading google_play_scraper-1.2.7-py3-none-any.whl.metadata (50 kB)\n",
            "\u001b[?25l     \u001b[90m━━━━━━━━━━━━━━━━━━━━━━━━━━━━━━━━━━━━━━━━\u001b[0m \u001b[32m0.0/50.2 kB\u001b[0m \u001b[31m?\u001b[0m eta \u001b[36m-:--:--\u001b[0m\r\u001b[2K     \u001b[90m━━━━━━━━━━━━━━━━━━━━━━━━━━━━━━━━━━━━━━━━\u001b[0m \u001b[32m50.2/50.2 kB\u001b[0m \u001b[31m1.6 MB/s\u001b[0m eta \u001b[36m0:00:00\u001b[0m\n",
            "\u001b[?25hDownloading google_play_scraper-1.2.7-py3-none-any.whl (28 kB)\n",
            "Installing collected packages: google-play-scraper\n",
            "Successfully installed google-play-scraper-1.2.7\n"
          ]
        }
      ],
      "source": [
        "pip install google-play-scraper"
      ]
    },
    {
      "cell_type": "markdown",
      "source": [
        "Setelah itu kita akan lakukan scraping 10 komentar terbaru dengan kode berikut"
      ],
      "metadata": {
        "id": "Z7f9UBvS83zV"
      }
    },
    {
      "cell_type": "code",
      "source": [
        "from google_play_scraper import Sort, reviews\n",
        "\n",
        "result, _ = reviews(\n",
        "    'jp.naver.line.android',  # Ganti dengan ID aplikasi yang Anda ingin ambil\n",
        "    lang='id',                # Bahasa ulasan, misalnya 'id' untuk Indonesia\n",
        "    country='id',             # Negara\n",
        "    sort=Sort.NEWEST,         # Urutkan berdasarkan terbaru\n",
        "    count=10                 # Jumlah ulasan yang diambil\n",
        ")\n",
        "\n",
        "# Menampilkan hasil ulasan\n",
        "for review in result:\n",
        "    print(review['content'])"
      ],
      "metadata": {
        "colab": {
          "base_uri": "https://localhost:8080/"
        },
        "id": "4qgrxH7Y77Ll",
        "outputId": "49a89238-8e9e-4adc-ec02-73c091628d09"
      },
      "execution_count": null,
      "outputs": [
        {
          "output_type": "stream",
          "name": "stdout",
          "text": [
            "Up\n",
            "Knp susah daftar line\n",
            "min ini kenapa ya sy buat akun buat masukin nomor pasti notif nya nomor tdk masuk dan sesuai negara , padahl udh indonesia loh ini kok gk jelas sih ini aplikasi bingung gw\n",
            "lama bgt buka rekeningnya, aplnya jelek bgt\n",
            "Ok\n",
            "Tidak bisa upload video\n",
            "Baru ini instal line\n",
            "Apa-apaan gak bisa login lewat facebook lagi kacau\n",
            "Kenapa mau login gabisa? Login pake no hp tapi verifikasi dibokir untuk sementara, harus nunggu 22hari???\n",
            "INI APLIKASI MIKIRIN PERASAAN ORANG GA SIH? AKUN LINE GW YANG TERKAIT SAMA FACEBOOK TIBA TIBA KE HAPUS ANEH\n"
          ]
        }
      ]
    },
    {
      "cell_type": "markdown",
      "source": [
        "Kemudian hasil komentar berikut akan kita simpan kedalam file pdf, sebelum itu kita perlu menginstal library fpdf"
      ],
      "metadata": {
        "id": "b0DK7BTv9a4P"
      }
    },
    {
      "cell_type": "code",
      "source": [
        "pip install fpdf"
      ],
      "metadata": {
        "colab": {
          "base_uri": "https://localhost:8080/"
        },
        "id": "VJwg5fp18_AD",
        "outputId": "568e3d0a-a1a6-4807-be09-d7088c27f916"
      },
      "execution_count": null,
      "outputs": [
        {
          "output_type": "stream",
          "name": "stdout",
          "text": [
            "Collecting fpdf\n",
            "  Downloading fpdf-1.7.2.tar.gz (39 kB)\n",
            "  Preparing metadata (setup.py) ... \u001b[?25l\u001b[?25hdone\n",
            "Building wheels for collected packages: fpdf\n",
            "  Building wheel for fpdf (setup.py) ... \u001b[?25l\u001b[?25hdone\n",
            "  Created wheel for fpdf: filename=fpdf-1.7.2-py2.py3-none-any.whl size=40704 sha256=13d6d45b665c88a466a50a83ac325b7d18d13b7fb38bf8d818e71a789e72af4c\n",
            "  Stored in directory: /root/.cache/pip/wheels/f9/95/ba/f418094659025eb9611f17cbcaf2334236bf39a0c3453ea455\n",
            "Successfully built fpdf\n",
            "Installing collected packages: fpdf\n",
            "Successfully installed fpdf-1.7.2\n"
          ]
        }
      ]
    },
    {
      "cell_type": "markdown",
      "source": [
        "Kemudian masukkan kode berikut"
      ],
      "metadata": {
        "id": "SZcsp8VA9olk"
      }
    },
    {
      "cell_type": "code",
      "source": [
        "from google_play_scraper import Sort, reviews\n",
        "from fpdf import FPDF\n",
        "\n",
        "# Mengambil 10 ulasan terbaru dari aplikasi LINE\n",
        "result, _ = reviews(\n",
        "    'jp.naver.line.android',  # ID aplikasi\n",
        "    lang='id',                # Bahasa ulasan\n",
        "    country='id',             # Negara\n",
        "    sort=Sort.NEWEST,         # Urutkan berdasarkan terbaru\n",
        "    count=10                  # Jumlah ulasan yang diambil\n",
        ")\n",
        "\n",
        "# Ekstrak hanya konten ulasan\n",
        "comments = [review['content'] for review in result]\n",
        "\n",
        "# Membuat instance PDF\n",
        "pdf = FPDF()\n",
        "pdf.set_auto_page_break(auto=True, margin=15)\n",
        "pdf.add_page()\n",
        "\n",
        "# Menambahkan judul di PDF\n",
        "pdf.set_font(\"Arial\", \"B\", 16)\n",
        "pdf.cell(200, 10, txt=\"Komentar Terbaru dari Google Play Store - LINE\", ln=True, align='C')\n",
        "\n",
        "# Menambahkan komentar ke PDF\n",
        "pdf.set_font(\"Arial\", size=12)\n",
        "for i, comment in enumerate(comments, 1):\n",
        "    pdf.multi_cell(0, 10, f\"Komentar {i}: {comment}\\n\")\n",
        "\n",
        "# Menyimpan PDF\n",
        "pdf_output_path = \"komentar_playstore_line.pdf\"\n",
        "pdf.output(pdf_output_path)\n",
        "\n",
        "print(f\"File PDF berhasil disimpan di {pdf_output_path}\")"
      ],
      "metadata": {
        "colab": {
          "base_uri": "https://localhost:8080/"
        },
        "id": "AqKJ1DSW8-13",
        "outputId": "50ee8db4-e184-479c-867a-543b8e0b776f"
      },
      "execution_count": null,
      "outputs": [
        {
          "output_type": "stream",
          "name": "stdout",
          "text": [
            "File PDF berhasil disimpan di komentar_playstore_line.pdf\n"
          ]
        }
      ]
    },
    {
      "cell_type": "code",
      "source": [
        "pip install nltk Sastrawi"
      ],
      "metadata": {
        "colab": {
          "base_uri": "https://localhost:8080/"
        },
        "id": "1yBtg71x8-g3",
        "outputId": "ec7778da-9c49-469e-d2c4-10e5c9575f89"
      },
      "execution_count": null,
      "outputs": [
        {
          "output_type": "stream",
          "name": "stdout",
          "text": [
            "Requirement already satisfied: nltk in /usr/local/lib/python3.10/dist-packages (3.8.1)\n",
            "Collecting Sastrawi\n",
            "  Downloading Sastrawi-1.0.1-py2.py3-none-any.whl.metadata (909 bytes)\n",
            "Requirement already satisfied: click in /usr/local/lib/python3.10/dist-packages (from nltk) (8.1.7)\n",
            "Requirement already satisfied: joblib in /usr/local/lib/python3.10/dist-packages (from nltk) (1.4.2)\n",
            "Requirement already satisfied: regex>=2021.8.3 in /usr/local/lib/python3.10/dist-packages (from nltk) (2024.9.11)\n",
            "Requirement already satisfied: tqdm in /usr/local/lib/python3.10/dist-packages (from nltk) (4.66.5)\n",
            "Downloading Sastrawi-1.0.1-py2.py3-none-any.whl (209 kB)\n",
            "\u001b[2K   \u001b[90m━━━━━━━━━━━━━━━━━━━━━━━━━━━━━━━━━━━━━━━━\u001b[0m \u001b[32m209.7/209.7 kB\u001b[0m \u001b[31m3.4 MB/s\u001b[0m eta \u001b[36m0:00:00\u001b[0m\n",
            "\u001b[?25hInstalling collected packages: Sastrawi\n",
            "Successfully installed Sastrawi-1.0.1\n"
          ]
        }
      ]
    },
    {
      "cell_type": "code",
      "source": [
        "from google_play_scraper import Sort, reviews\n",
        "from fpdf import FPDF\n",
        "import nltk\n",
        "from nltk.corpus import stopwords\n",
        "from Sastrawi.StopWordRemover.StopWordRemoverFactory import StopWordRemoverFactory\n",
        "import string\n",
        "\n",
        "# Download NLTK stopwords\n",
        "nltk.download('stopwords')\n",
        "\n",
        "# Mengambil 10 ulasan terbaru dari aplikasi LINE\n",
        "result, _ = reviews(\n",
        "    'jp.naver.line.android',  # ID aplikasi\n",
        "    lang='id',                # Bahasa ulasan\n",
        "    country='id',             # Negara\n",
        "    sort=Sort.NEWEST,         # Urutkan berdasarkan terbaru\n",
        "    count=10                  # Jumlah ulasan yang diambil\n",
        ")\n",
        "\n",
        "# Ekstrak hanya konten ulasan\n",
        "comments = [review['content'] for review in result]\n",
        "\n",
        "# 1. Menyimpan komentar ke PDF\n",
        "pdf = FPDF()\n",
        "pdf.set_auto_page_break(auto=True, margin=15)\n",
        "pdf.add_page()\n",
        "pdf.set_font(\"Arial\", \"B\", 16)\n",
        "pdf.cell(200, 10, txt=\"Komentar Terbaru dari Google Play Store - LINE\", ln=True, align='C')\n",
        "pdf.set_font(\"Arial\", size=12)\n",
        "for i, comment in enumerate(comments, 1):\n",
        "    pdf.multi_cell(0, 10, f\"Komentar {i}: {comment}\\n\")\n",
        "pdf_output_path = \"komentar_playstore_line.pdf\"\n",
        "pdf.output(pdf_output_path)\n",
        "print(f\"File PDF berhasil disimpan di {pdf_output_path}\")\n",
        "\n",
        "# 2. Filtering komentar dengan tokenisasi dan menghapus stopwords\n",
        "# Stopwords Bahasa Indonesia (Sastrawi) dan Bahasa Inggris (NLTK)\n",
        "factory = StopWordRemoverFactory()\n",
        "sastrawi_stopwords = factory.create_stop_word_remover()\n",
        "nltk_stopwords = set(stopwords.words('english'))\n",
        "punctuation = set(string.punctuation)\n",
        "\n",
        "def remove_stopwords(comment):\n",
        "    # Tokenisasi kata\n",
        "    tokens = comment.split()\n",
        "\n",
        "    # Hapus stopwords bahasa Inggris, tanda baca, dan stopwords bahasa Indonesia\n",
        "    filtered_tokens = [word for word in tokens if word.lower() not in nltk_stopwords and word.lower() not in punctuation]\n",
        "\n",
        "    # Gabungkan kembali kata yang sudah difilter\n",
        "    filtered_comment = ' '.join(filtered_tokens)\n",
        "\n",
        "    # Hapus stopwords bahasa Indonesia menggunakan Sastrawi\n",
        "    return sastrawi_stopwords.remove(filtered_comment)\n",
        "\n",
        "# 3. Proses filtering setiap komentar\n",
        "filtered_comments = [remove_stopwords(comment) for comment in comments]\n",
        "\n",
        "# 4. Menyimpan hasil filtering ke file .txt\n",
        "txt_output_path = \"filtered_komentar_playstore.txt\"\n",
        "with open(txt_output_path, 'w', encoding='utf-8') as f:\n",
        "    for i, comment in enumerate(filtered_comments, 1):\n",
        "        f.write(f\"Komentar {i}: {comment}\\n\\n\")\n",
        "\n",
        "print(f\"Hasil filtering komentar disimpan di {txt_output_path}\")"
      ],
      "metadata": {
        "colab": {
          "base_uri": "https://localhost:8080/",
          "height": 443
        },
        "id": "vHmy9IFg-9h4",
        "outputId": "925f2613-4505-4729-fa4a-854f7edc6aff"
      },
      "execution_count": null,
      "outputs": [
        {
          "output_type": "stream",
          "name": "stderr",
          "text": [
            "[nltk_data] Downloading package stopwords to /root/nltk_data...\n",
            "[nltk_data]   Package stopwords is already up-to-date!\n"
          ]
        },
        {
          "output_type": "error",
          "ename": "UnicodeEncodeError",
          "evalue": "'latin-1' codec can't encode character '\\U0001f44e' in position 814: ordinal not in range(256)",
          "traceback": [
            "\u001b[0;31m---------------------------------------------------------------------------\u001b[0m",
            "\u001b[0;31mUnicodeEncodeError\u001b[0m                        Traceback (most recent call last)",
            "\u001b[0;32m<ipython-input-9-cb32bd9a7379>\u001b[0m in \u001b[0;36m<cell line: 33>\u001b[0;34m()\u001b[0m\n\u001b[1;32m     31\u001b[0m     \u001b[0mpdf\u001b[0m\u001b[0;34m.\u001b[0m\u001b[0mmulti_cell\u001b[0m\u001b[0;34m(\u001b[0m\u001b[0;36m0\u001b[0m\u001b[0;34m,\u001b[0m \u001b[0;36m10\u001b[0m\u001b[0;34m,\u001b[0m \u001b[0;34mf\"Komentar {i}: {comment}\\n\"\u001b[0m\u001b[0;34m)\u001b[0m\u001b[0;34m\u001b[0m\u001b[0;34m\u001b[0m\u001b[0m\n\u001b[1;32m     32\u001b[0m \u001b[0mpdf_output_path\u001b[0m \u001b[0;34m=\u001b[0m \u001b[0;34m\"komentar_playstore_line.pdf\"\u001b[0m\u001b[0;34m\u001b[0m\u001b[0;34m\u001b[0m\u001b[0m\n\u001b[0;32m---> 33\u001b[0;31m \u001b[0mpdf\u001b[0m\u001b[0;34m.\u001b[0m\u001b[0moutput\u001b[0m\u001b[0;34m(\u001b[0m\u001b[0mpdf_output_path\u001b[0m\u001b[0;34m)\u001b[0m\u001b[0;34m\u001b[0m\u001b[0;34m\u001b[0m\u001b[0m\n\u001b[0m\u001b[1;32m     34\u001b[0m \u001b[0mprint\u001b[0m\u001b[0;34m(\u001b[0m\u001b[0;34mf\"File PDF berhasil disimpan di {pdf_output_path}\"\u001b[0m\u001b[0;34m)\u001b[0m\u001b[0;34m\u001b[0m\u001b[0;34m\u001b[0m\u001b[0m\n\u001b[1;32m     35\u001b[0m \u001b[0;34m\u001b[0m\u001b[0m\n",
            "\u001b[0;32m/usr/local/lib/python3.10/dist-packages/fpdf/fpdf.py\u001b[0m in \u001b[0;36moutput\u001b[0;34m(self, name, dest)\u001b[0m\n\u001b[1;32m   1063\u001b[0m         \u001b[0;31m#Finish document if necessary\u001b[0m\u001b[0;34m\u001b[0m\u001b[0;34m\u001b[0m\u001b[0m\n\u001b[1;32m   1064\u001b[0m         \u001b[0;32mif\u001b[0m\u001b[0;34m(\u001b[0m\u001b[0mself\u001b[0m\u001b[0;34m.\u001b[0m\u001b[0mstate\u001b[0m\u001b[0;34m<\u001b[0m\u001b[0;36m3\u001b[0m\u001b[0;34m)\u001b[0m\u001b[0;34m:\u001b[0m\u001b[0;34m\u001b[0m\u001b[0;34m\u001b[0m\u001b[0m\n\u001b[0;32m-> 1065\u001b[0;31m             \u001b[0mself\u001b[0m\u001b[0;34m.\u001b[0m\u001b[0mclose\u001b[0m\u001b[0;34m(\u001b[0m\u001b[0;34m)\u001b[0m\u001b[0;34m\u001b[0m\u001b[0;34m\u001b[0m\u001b[0m\n\u001b[0m\u001b[1;32m   1066\u001b[0m         \u001b[0mdest\u001b[0m\u001b[0;34m=\u001b[0m\u001b[0mdest\u001b[0m\u001b[0;34m.\u001b[0m\u001b[0mupper\u001b[0m\u001b[0;34m(\u001b[0m\u001b[0;34m)\u001b[0m\u001b[0;34m\u001b[0m\u001b[0;34m\u001b[0m\u001b[0m\n\u001b[1;32m   1067\u001b[0m         \u001b[0;32mif\u001b[0m\u001b[0;34m(\u001b[0m\u001b[0mdest\u001b[0m\u001b[0;34m==\u001b[0m\u001b[0;34m''\u001b[0m\u001b[0;34m)\u001b[0m\u001b[0;34m:\u001b[0m\u001b[0;34m\u001b[0m\u001b[0;34m\u001b[0m\u001b[0m\n",
            "\u001b[0;32m/usr/local/lib/python3.10/dist-packages/fpdf/fpdf.py\u001b[0m in \u001b[0;36mclose\u001b[0;34m(self)\u001b[0m\n\u001b[1;32m    244\u001b[0m         \u001b[0mself\u001b[0m\u001b[0;34m.\u001b[0m\u001b[0m_endpage\u001b[0m\u001b[0;34m(\u001b[0m\u001b[0;34m)\u001b[0m\u001b[0;34m\u001b[0m\u001b[0;34m\u001b[0m\u001b[0m\n\u001b[1;32m    245\u001b[0m         \u001b[0;31m#close document\u001b[0m\u001b[0;34m\u001b[0m\u001b[0;34m\u001b[0m\u001b[0m\n\u001b[0;32m--> 246\u001b[0;31m         \u001b[0mself\u001b[0m\u001b[0;34m.\u001b[0m\u001b[0m_enddoc\u001b[0m\u001b[0;34m(\u001b[0m\u001b[0;34m)\u001b[0m\u001b[0;34m\u001b[0m\u001b[0;34m\u001b[0m\u001b[0m\n\u001b[0m\u001b[1;32m    247\u001b[0m \u001b[0;34m\u001b[0m\u001b[0m\n\u001b[1;32m    248\u001b[0m     \u001b[0;32mdef\u001b[0m \u001b[0madd_page\u001b[0m\u001b[0;34m(\u001b[0m\u001b[0mself\u001b[0m\u001b[0;34m,\u001b[0m \u001b[0morientation\u001b[0m\u001b[0;34m=\u001b[0m\u001b[0;34m''\u001b[0m\u001b[0;34m)\u001b[0m\u001b[0;34m:\u001b[0m\u001b[0;34m\u001b[0m\u001b[0;34m\u001b[0m\u001b[0m\n",
            "\u001b[0;32m/usr/local/lib/python3.10/dist-packages/fpdf/fpdf.py\u001b[0m in \u001b[0;36m_enddoc\u001b[0;34m(self)\u001b[0m\n\u001b[1;32m   1634\u001b[0m     \u001b[0;32mdef\u001b[0m \u001b[0m_enddoc\u001b[0m\u001b[0;34m(\u001b[0m\u001b[0mself\u001b[0m\u001b[0;34m)\u001b[0m\u001b[0;34m:\u001b[0m\u001b[0;34m\u001b[0m\u001b[0;34m\u001b[0m\u001b[0m\n\u001b[1;32m   1635\u001b[0m         \u001b[0mself\u001b[0m\u001b[0;34m.\u001b[0m\u001b[0m_putheader\u001b[0m\u001b[0;34m(\u001b[0m\u001b[0;34m)\u001b[0m\u001b[0;34m\u001b[0m\u001b[0;34m\u001b[0m\u001b[0m\n\u001b[0;32m-> 1636\u001b[0;31m         \u001b[0mself\u001b[0m\u001b[0;34m.\u001b[0m\u001b[0m_putpages\u001b[0m\u001b[0;34m(\u001b[0m\u001b[0;34m)\u001b[0m\u001b[0;34m\u001b[0m\u001b[0;34m\u001b[0m\u001b[0m\n\u001b[0m\u001b[1;32m   1637\u001b[0m         \u001b[0mself\u001b[0m\u001b[0;34m.\u001b[0m\u001b[0m_putresources\u001b[0m\u001b[0;34m(\u001b[0m\u001b[0;34m)\u001b[0m\u001b[0;34m\u001b[0m\u001b[0;34m\u001b[0m\u001b[0m\n\u001b[1;32m   1638\u001b[0m         \u001b[0;31m#Info\u001b[0m\u001b[0;34m\u001b[0m\u001b[0;34m\u001b[0m\u001b[0m\n",
            "\u001b[0;32m/usr/local/lib/python3.10/dist-packages/fpdf/fpdf.py\u001b[0m in \u001b[0;36m_putpages\u001b[0;34m(self)\u001b[0m\n\u001b[1;32m   1168\u001b[0m             \u001b[0;32mif\u001b[0m \u001b[0mself\u001b[0m\u001b[0;34m.\u001b[0m\u001b[0mcompress\u001b[0m\u001b[0;34m:\u001b[0m\u001b[0;34m\u001b[0m\u001b[0;34m\u001b[0m\u001b[0m\n\u001b[1;32m   1169\u001b[0m                 \u001b[0;31m# manage binary data as latin1 until PEP461 or similar is implemented\u001b[0m\u001b[0;34m\u001b[0m\u001b[0;34m\u001b[0m\u001b[0m\n\u001b[0;32m-> 1170\u001b[0;31m                 \u001b[0mp\u001b[0m \u001b[0;34m=\u001b[0m \u001b[0mself\u001b[0m\u001b[0;34m.\u001b[0m\u001b[0mpages\u001b[0m\u001b[0;34m[\u001b[0m\u001b[0mn\u001b[0m\u001b[0;34m]\u001b[0m\u001b[0;34m.\u001b[0m\u001b[0mencode\u001b[0m\u001b[0;34m(\u001b[0m\u001b[0;34m\"latin1\"\u001b[0m\u001b[0;34m)\u001b[0m \u001b[0;32mif\u001b[0m \u001b[0mPY3K\u001b[0m \u001b[0;32melse\u001b[0m \u001b[0mself\u001b[0m\u001b[0;34m.\u001b[0m\u001b[0mpages\u001b[0m\u001b[0;34m[\u001b[0m\u001b[0mn\u001b[0m\u001b[0;34m]\u001b[0m\u001b[0;34m\u001b[0m\u001b[0;34m\u001b[0m\u001b[0m\n\u001b[0m\u001b[1;32m   1171\u001b[0m                 \u001b[0mp\u001b[0m \u001b[0;34m=\u001b[0m \u001b[0mzlib\u001b[0m\u001b[0;34m.\u001b[0m\u001b[0mcompress\u001b[0m\u001b[0;34m(\u001b[0m\u001b[0mp\u001b[0m\u001b[0;34m)\u001b[0m\u001b[0;34m\u001b[0m\u001b[0;34m\u001b[0m\u001b[0m\n\u001b[1;32m   1172\u001b[0m             \u001b[0;32melse\u001b[0m\u001b[0;34m:\u001b[0m\u001b[0;34m\u001b[0m\u001b[0;34m\u001b[0m\u001b[0m\n",
            "\u001b[0;31mUnicodeEncodeError\u001b[0m: 'latin-1' codec can't encode character '\\U0001f44e' in position 814: ordinal not in range(256)"
          ]
        }
      ]
    },
    {
      "cell_type": "code",
      "source": [
        "from google_play_scraper import Sort, reviews\n",
        "from fpdf import FPDF\n",
        "import nltk\n",
        "from nltk.corpus import stopwords\n",
        "from Sastrawi.StopWordRemover.StopWordRemoverFactory import StopWordRemoverFactory\n",
        "import string\n",
        "import re\n",
        "\n",
        "# Download NLTK stopwords\n",
        "nltk.download('stopwords')\n",
        "\n",
        "# Mengambil 10 ulasan terbaru dari aplikasi LINE\n",
        "result, _ = reviews(\n",
        "    'jp.naver.line.android',  # ID aplikasi\n",
        "    lang='id',                # Bahasa ulasan\n",
        "    country='id',             # Negara\n",
        "    sort=Sort.NEWEST,         # Urutkan berdasarkan terbaru\n",
        "    count=10                  # Jumlah ulasan yang diambil\n",
        ")\n",
        "\n",
        "# Ekstrak hanya konten ulasan\n",
        "comments = [review['content'] for review in result]\n",
        "\n",
        "# 1. Menyimpan komentar ke PDF\n",
        "pdf = FPDF()\n",
        "pdf.set_auto_page_break(auto=True, margin=15)\n",
        "pdf.add_page()\n",
        "pdf.set_font(\"Arial\", \"B\", 16)\n",
        "pdf.cell(200, 10, txt=\"Komentar Terbaru dari Google Play Store - LINE\", ln=True, align='C')\n",
        "pdf.set_font(\"Arial\", size=12)\n",
        "for i, comment in enumerate(comments, 1):\n",
        "    # Remove or replace emojis and other non-latin1 characters\n",
        "    # You can customize the replacement strategy here\n",
        "    comment = re.sub(r'[^\\x00-\\x7f]',r'', comment)  # Removing non-latin1 characters\n",
        "    # comment = comment.encode('latin-1', 'replace').decode('latin-1') # Replacing with ?\n",
        "    pdf.multi_cell(0, 10, f\"Komentar {i}: {comment}\\n\")\n",
        "pdf_output_path = \"komentar_playstore_line.pdf\"\n",
        "pdf.output(pdf_output_path)\n",
        "print(f\"File PDF berhasil disimpan di {pdf_output_path}\")\n",
        "\n",
        "# 2. Filtering komentar dengan tokenisasi dan menghapus stopwords\n",
        "# Stopwords Bahasa Indonesia (Sastrawi) dan Bahasa Inggris (NLTK)\n",
        "factory = StopWordRemoverFactory()\n",
        "sastrawi_stopwords = factory.create_stop_word_remover()\n",
        "nltk_stopwords = set(stopwords.words('english'))\n",
        "punctuation = set(string.punctuation)\n",
        "\n",
        "def remove_stopwords(comment):\n",
        "    # Tokenisasi kata\n",
        "    tokens = comment.split()\n",
        "\n",
        "    # Hapus stopwords bahasa Inggris, tanda baca, dan stopwords bahasa Indonesia\n",
        "    filtered_tokens = [word for word in tokens if word.lower() not in nltk_stopwords and word.lower() not in punctuation]\n",
        "\n",
        "    # Gabungkan kembali kata yang sudah difilter\n",
        "    filtered_comment = ' '.join(filtered_tokens)\n",
        "\n",
        "    # Hapus stopwords bahasa Indonesia menggunakan Sastrawi\n",
        "    return sastrawi_stopwords.remove(filtered_comment)\n",
        "\n",
        "# 3. Proses filtering setiap komentar\n",
        "filtered_comments = [remove_stopwords(comment) for comment in comments]\n",
        "\n",
        "# 4. Menyimpan hasil filtering ke file .txt\n",
        "txt_output_path = \"filtered_komentar_playstore.txt\"\n",
        "with open(txt_output_path, 'w', encoding='utf-8') as f:\n",
        "    for i, comment in enumerate(filtered_comments, 1):\n",
        "        f.write(f\"Komentar {i}: {comment}\\n\\n\")\n",
        "\n",
        "print(f\"Hasil filtering komentar disimpan di {txt_output_path}\")"
      ],
      "metadata": {
        "id": "rTTyXoaB_DwL",
        "colab": {
          "base_uri": "https://localhost:8080/"
        },
        "outputId": "6a2c168a-dfbd-4259-cd4d-8b15e080f6dd"
      },
      "execution_count": null,
      "outputs": [
        {
          "output_type": "stream",
          "name": "stdout",
          "text": [
            "File PDF berhasil disimpan di komentar_playstore_line.pdf\n",
            "Hasil filtering komentar disimpan di filtered_komentar_playstore.txt\n"
          ]
        },
        {
          "output_type": "stream",
          "name": "stderr",
          "text": [
            "[nltk_data] Downloading package stopwords to /root/nltk_data...\n",
            "[nltk_data]   Package stopwords is already up-to-date!\n"
          ]
        }
      ]
    },
    {
      "cell_type": "code",
      "source": [
        "from google_play_scraper import Sort, reviews\n",
        "from fpdf import FPDF\n",
        "import nltk\n",
        "from nltk.corpus import stopwords\n",
        "from Sastrawi.StopWordRemover.StopWordRemoverFactory import StopWordRemoverFactory\n",
        "import string\n",
        "import re\n",
        "\n",
        "# Download NLTK stopwords\n",
        "nltk.download('stopwords')\n",
        "nltk.download('punkt')\n",
        "\n",
        "# Mengambil 10 ulasan terbaru dari aplikasi LINE\n",
        "result, _ = reviews(\n",
        "    'jp.naver.line.android',  # ID aplikasi\n",
        "    lang='id',                # Bahasa ulasan\n",
        "    country='id',             # Negara\n",
        "    sort=Sort.NEWEST,         # Urutkan berdasarkan terbaru\n",
        "    count=10                  # Jumlah ulasan yang diambil\n",
        ")\n",
        "\n",
        "# Ekstrak hanya konten ulasan\n",
        "comments = [review['content'] for review in result]\n",
        "\n",
        "# 1. Menyimpan komentar ke PDF\n",
        "pdf = FPDF()\n",
        "pdf.set_auto_page_break(auto=True, margin=15)\n",
        "pdf.add_page()\n",
        "pdf.set_font(\"Arial\", \"B\", 16)\n",
        "pdf.cell(200, 10, txt=\"Komentar Terbaru dari Google Play Store - LINE\", ln=True, align='C')\n",
        "pdf.set_font(\"Arial\", size=12)\n",
        "for i, comment in enumerate(comments, 1):\n",
        "    # Remove or replace emojis and other non-latin1 characters\n",
        "    # You can customize the replacement strategy here\n",
        "    comment = re.sub(r'[^\\x00-\\x7f]',r'', comment)  # Removing non-latin1 characters\n",
        "    # comment = comment.encode('latin-1', 'replace').decode('latin-1') # Replacing with ?\n",
        "    pdf.multi_cell(0, 10, f\"Komentar {i}: {comment}\\n\")\n",
        "pdf_output_path = \"komentar_playstore_line.pdf\"\n",
        "pdf.output(pdf_output_path)\n",
        "print(f\"File PDF berhasil disimpan di {pdf_output_path}\")\n",
        "\n",
        "# 2. Filtering komentar dengan tokenisasi dan menghapus stopwords\n",
        "factory = StopWordRemoverFactory()\n",
        "sastrawi_stopwords = factory.create_stop_word_remover()\n",
        "nltk_stopwords = set(stopwords.words('english'))\n",
        "punctuation = set(string.punctuation)\n",
        "\n",
        "def remove_stopwords(comment):\n",
        "    # Tokenisasi menggunakan NLTK word_tokenize\n",
        "    tokens = nltk.word_tokenize(comment)\n",
        "\n",
        "    # Hapus stopwords dan tanda baca\n",
        "    filtered_tokens = [word for word in tokens if word.lower() not in nltk_stopwords and word.lower() not in punctuation]\n",
        "\n",
        "    # Gabungkan kembali kata yang sudah difilter\n",
        "    filtered_comment = ' '.join(filtered_tokens)\n",
        "\n",
        "    # Hapus stopwords bahasa Indonesia menggunakan Sastrawi\n",
        "    return sastrawi_stopwords.remove(filtered_comment)\n",
        "\n",
        "# 3. Proses filtering setiap komentar\n",
        "filtered_comments = [remove_stopwords(comment) for comment in comments]\n",
        "\n",
        "# 4. Menyimpan hasil filtering ke file .txt\n",
        "txt_output_path = \"filtered_komentar_playstore.txt\"\n",
        "with open(txt_output_path, 'w', encoding='utf-8') as f:\n",
        "    for i, comment in enumerate(filtered_comments, 1):\n",
        "        f.write(f\"Komentar {i}: {comment}\\n\\n\")\n",
        "\n",
        "print(f\"Hasil filtering komentar disimpan di {txt_output_path}\")"
      ],
      "metadata": {
        "colab": {
          "base_uri": "https://localhost:8080/"
        },
        "id": "sV0K227Mnatb",
        "outputId": "b72b4bd4-b739-43b6-b9a0-570d04dcee73"
      },
      "execution_count": null,
      "outputs": [
        {
          "output_type": "stream",
          "name": "stderr",
          "text": [
            "[nltk_data] Downloading package stopwords to /root/nltk_data...\n",
            "[nltk_data]   Unzipping corpora/stopwords.zip.\n",
            "[nltk_data] Downloading package punkt to /root/nltk_data...\n",
            "[nltk_data]   Unzipping tokenizers/punkt.zip.\n"
          ]
        },
        {
          "output_type": "stream",
          "name": "stdout",
          "text": [
            "File PDF berhasil disimpan di komentar_playstore_line.pdf\n",
            "Hasil filtering komentar disimpan di filtered_komentar_playstore.txt\n"
          ]
        }
      ]
    },
    {
      "cell_type": "code",
      "source": [],
      "metadata": {
        "id": "6H6oxHBSlX4h"
      },
      "execution_count": null,
      "outputs": []
    }
  ]
}